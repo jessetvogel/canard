{
 "cells": [
  {
   "cell_type": "code",
   "execution_count": 2,
   "metadata": {},
   "outputs": [],
   "source": [
    "import os\n",
    "from tex2html import Parser"
   ]
  },
  {
   "cell_type": "code",
   "execution_count": 3,
   "metadata": {},
   "outputs": [
    {
     "name": "stdout",
     "output_type": "stream",
     "text": [
      "[algebraic_geometry.Spec]\n"
     ]
    }
   ],
   "source": [
    "# Specify paths\n",
    "doc_path = '../../doc'\n",
    "tex_path = '../../tex'\n",
    "\n",
    "# Create parser\n",
    "parser = Parser(doc_path)\n",
    "\n",
    "# Set allowed entries\n",
    "with open(doc_path + '/identifiers') as f:\n",
    "    allowed = sorted([ line.strip() for line in f ])\n",
    "    parser.set_allowed_identifiers(allowed)\n",
    "\n",
    "# Search for .tex files, and parse\n",
    "for f in os.listdir(tex_path):\n",
    "    file_path = os.path.join(tex_path, f)\n",
    "    file_extension = os.path.splitext(file_path)[1]\n",
    "\n",
    "    if file_extension != '.tex': # only read .tex files\n",
    "        continue\n",
    "    if '--' in file_path: # ignore files containing '--'\n",
    "        continue\n",
    "    if not os.path.isfile(file_path): # skip directories / non-files\n",
    "        continue\n",
    "    \n",
    "    try:\n",
    "        parser.parse(file_path)\n",
    "    except Exception as e:\n",
    "        print('An error occured: ' + str(e))\n",
    "        exit(0)"
   ]
  },
  {
   "cell_type": "code",
   "execution_count": 14,
   "metadata": {},
   "outputs": [
    {
     "name": "stdout",
     "output_type": "stream",
     "text": [
      "No missing docs\n"
     ]
    }
   ],
   "source": [
    "# Check for missing docs\n",
    "docs = sorted(parser.get_identifiers())\n",
    "missing = 0\n",
    "for x in allowed: # TODO: be more efficient next time, use that lists are sorted\n",
    "    if x not in docs:\n",
    "        print('❓ Missing docs for [{}]'.format(x))\n",
    "        missing += 1\n",
    "if missing == 0:\n",
    "    print('😁 No missing docs')"
   ]
  },
  {
   "cell_type": "code",
   "execution_count": 15,
   "metadata": {},
   "outputs": [
    {
     "name": "stdout",
     "output_type": "stream",
     "text": [
      "Compiled 1 docs\n"
     ]
    }
   ],
   "source": [
    "# Print stats\n",
    "print('📝 Compiled {} docs'.format(len(docs)))"
   ]
  },
  {
   "cell_type": "code",
   "execution_count": null,
   "metadata": {},
   "outputs": [],
   "source": []
  }
 ],
 "metadata": {
  "kernelspec": {
   "display_name": "Python 3",
   "language": "python",
   "name": "python3"
  },
  "language_info": {
   "codemirror_mode": {
    "name": "ipython",
    "version": 3
   },
   "file_extension": ".py",
   "mimetype": "text/x-python",
   "name": "python",
   "nbconvert_exporter": "python",
   "pygments_lexer": "ipython3",
   "version": "3.9.2"
  }
 },
 "nbformat": 4,
 "nbformat_minor": 4
}